{
  "nbformat": 4,
  "nbformat_minor": 0,
  "metadata": {
    "colab": {
      "provenance": []
    },
    "kernelspec": {
      "name": "python3",
      "display_name": "Python 3"
    },
    "language_info": {
      "name": "python"
    }
  },
  "cells": [
    {
      "cell_type": "code",
      "execution_count": null,
      "metadata": {
        "id": "nrpNGQ6gBi4u"
      },
      "outputs": [],
      "source": [
        "import keras\n",
        "from keras.preprocessing.image import ImageDataGenerator"
      ]
    },
    {
      "cell_type": "code",
      "source": [
        "train_datagen = ImageDataGenerator(\n",
        "    rotation_range=180,\n",
        "    width_shift_range=0.2,\n",
        "    height_shift_range=0.2,\n",
        "    rescale=1./255,\n",
        "    shear_range=0.2,\n",
        "    zoom_range=0.2,\n",
        "    horizontal_flip=True,)\n",
        "test_datagen = ImageDataGenerator(rescale=1./255)"
      ],
      "metadata": {
        "id": "u7vh8ikwB5sw"
      },
      "execution_count": null,
      "outputs": []
    },
    {
      "cell_type": "code",
      "source": [
        "x_train=train_datagen.flow_from_directory('/content/drive/MyDrive/Dataset/Dataset/train_set.csv',\n",
        "target_size=(128,128),batch_size=32,class_mode='binary')"
      ],
      "metadata": {
        "colab": {
          "base_uri": "https://localhost:8080/"
        },
        "id": "hM1DN40uCUQl",
        "outputId": "0b54b87c-d0f0-4340-ef88-3b23e557d040"
      },
      "execution_count": null,
      "outputs": [
        {
          "output_type": "stream",
          "name": "stdout",
          "text": [
            "Found 436 images belonging to 2 classes.\n"
          ]
        }
      ]
    },
    {
      "cell_type": "code",
      "source": [
        "#Applying ImageDataGenerator functionality to testset"
      ],
      "metadata": {
        "id": "o8ybJhn9HU8o"
      },
      "execution_count": null,
      "outputs": []
    },
    {
      "cell_type": "code",
      "source": [
        "x_test=test_datagen.flow_from_directory('/content/drive/MyDrive/Dataset/Dataset/test_set',\n",
        "target_size=(128,128),batch_size=32,class_mode='binary')"
      ],
      "metadata": {
        "colab": {
          "base_uri": "https://localhost:8080/"
        },
        "id": "LGoWjHi-Hhbv",
        "outputId": "f90e9965-690b-47e9-86d7-23c5043634f6"
      },
      "execution_count": null,
      "outputs": [
        {
          "output_type": "stream",
          "name": "stdout",
          "text": [
            "Found 121 images belonging to 2 classes.\n"
          ]
        }
      ]
    },
    {
      "cell_type": "markdown",
      "source": [
        "#importing the model building libraries"
      ],
      "metadata": {
        "id": "mspeB0p6H1zN"
      }
    },
    {
      "cell_type": "code",
      "source": [
        "#To define linear intialisation import Sequential \n",
        "from keras.models import Sequential\n",
        "#To add layers import Dense\n",
        "from keras.layers import Dense\n",
        "#To creat Convolution kernal import Convolution2D\n",
        "from keras.layers import Convolution2D\n",
        "#import Maxpooling layer\n",
        "from keras.layers import MaxPooling2D\n",
        "#import Flatten layer\n",
        "from keras.layers import Flatten\n",
        "import warnings\n",
        "warnings.filterwarnings('ignore')"
      ],
      "metadata": {
        "id": "Lp4MwKZZH7JI"
      },
      "execution_count": null,
      "outputs": []
    },
    {
      "cell_type": "markdown",
      "source": [
        "#initializing the model"
      ],
      "metadata": {
        "id": "UO9_dbZSIMJT"
      }
    },
    {
      "cell_type": "code",
      "source": [
        "model=Sequential()"
      ],
      "metadata": {
        "id": "mxLu7l3UIRek"
      },
      "execution_count": null,
      "outputs": []
    },
    {
      "cell_type": "markdown",
      "source": [
        "#Adding CNN layers"
      ],
      "metadata": {
        "id": "qQUSgstYIbki"
      }
    },
    {
      "cell_type": "code",
      "source": [
        "#add convolutional layer \n",
        "model.add(Convolution2D(32,(3,3),input_shape=(128,128,3),activation='relu'))\n",
        "#add maxpooling layer \n",
        "model.add(MaxPooling2D(pool_size=(2,2)))\n",
        "#add flatten layer\n",
        "model.add(Flatten())"
      ],
      "metadata": {
        "id": "8Un7jqqaIiQk"
      },
      "execution_count": null,
      "outputs": []
    }
  ]
}